{
  "nbformat": 4,
  "nbformat_minor": 0,
  "metadata": {
    "colab": {
      "provenance": []
    },
    "kernelspec": {
      "name": "python3",
      "display_name": "Python 3"
    },
    "language_info": {
      "name": "python"
    }
  },
  "cells": [
    {
      "cell_type": "code",
      "execution_count": 54,
      "metadata": {
        "id": "f78K8GJF0B1d"
      },
      "outputs": [],
      "source": [
        "import nltk\n",
        "from nltk.corpus import gutenberg"
      ]
    },
    {
      "cell_type": "code",
      "source": [
        "nltk.download('gutenberg')"
      ],
      "metadata": {
        "colab": {
          "base_uri": "https://localhost:8080/"
        },
        "id": "8u928j2h0TF5",
        "outputId": "76aadbf5-fe2c-4b92-f785-402d9692ae64"
      },
      "execution_count": 55,
      "outputs": [
        {
          "output_type": "stream",
          "name": "stderr",
          "text": [
            "[nltk_data] Downloading package gutenberg to /root/nltk_data...\n",
            "[nltk_data]   Package gutenberg is already up-to-date!\n"
          ]
        },
        {
          "output_type": "execute_result",
          "data": {
            "text/plain": [
              "True"
            ]
          },
          "metadata": {},
          "execution_count": 55
        }
      ]
    },
    {
      "cell_type": "code",
      "source": [
        "import requests\n",
        "url = \"https://www.gutenberg.org/files/1342/1342-0.txt\"\n",
        "response = requests.get(url)"
      ],
      "metadata": {
        "id": "PhkU540P0aUD"
      },
      "execution_count": 56,
      "outputs": []
    },
    {
      "cell_type": "code",
      "source": [
        "with open(\"pride_and_prejudice.txt\", \"w\", encoding=\"utf-8\") as f:\n",
        "    f.write(response.text)"
      ],
      "metadata": {
        "id": "_7xxb4ZF0eOR"
      },
      "execution_count": 57,
      "outputs": []
    },
    {
      "cell_type": "code",
      "source": [
        "with open(\"pride_and_prejudice.txt\", \"r\", encoding=\"utf-8\") as f:\n",
        "    text = f.read()"
      ],
      "metadata": {
        "id": "WYLqnVGO1Grx"
      },
      "execution_count": 58,
      "outputs": []
    },
    {
      "cell_type": "code",
      "source": [
        "import string\n",
        "import numpy as np"
      ],
      "metadata": {
        "id": "PEi7h2LG1LSA"
      },
      "execution_count": 59,
      "outputs": []
    },
    {
      "cell_type": "code",
      "source": [
        "def preprocess_text(text):\n",
        "\n",
        "    text = text.lower()\n",
        "\n",
        "    text = text.translate(str.maketrans(\"\", \"\", string.punctuation))\n",
        "\n",
        "    tokens = text.split()\n",
        "    return tokens\n",
        "\n",
        "tokens = preprocess_text(text)\n"
      ],
      "metadata": {
        "id": "dN7nZnWO1OdH"
      },
      "execution_count": 60,
      "outputs": []
    },
    {
      "cell_type": "code",
      "source": [
        "def create_sequences(tokens, seq_length):\n",
        "    sequences = []\n",
        "    for i in range(len(tokens) - seq_length):\n",
        "        sequences.append(tokens[i:i + seq_length + 1])\n",
        "    return sequences\n",
        "\n",
        "seq_length = 30\n",
        "sequences = create_sequences(tokens, seq_length)"
      ],
      "metadata": {
        "id": "HZ-7O4FK1dKN"
      },
      "execution_count": 61,
      "outputs": []
    },
    {
      "cell_type": "code",
      "source": [
        "vocab = sorted(set(tokens))\n",
        "vocab_size = len(vocab)\n",
        "\n",
        "token_to_int = {token: i for i, token in enumerate(vocab)}\n",
        "int_to_token = {i: token for i, token in enumerate(vocab)}\n",
        "encoded_sequences = [[token_to_int[token] for token in seq] for seq in sequences]\n",
        "X = np.array([seq[:-1] for seq in encoded_sequences])\n",
        "y = np.array([seq[1:] for seq in encoded_sequences])"
      ],
      "metadata": {
        "id": "EEeSAWbQ1kjz"
      },
      "execution_count": 62,
      "outputs": []
    },
    {
      "cell_type": "code",
      "source": [
        "import tensorflow as tf\n",
        "\n",
        "\n",
        "model = tf.keras.Sequential([\n",
        "    tf.keras.layers.Embedding(input_dim=vocab_size, output_dim=50, input_length=seq_length),\n",
        "    tf.keras.layers.Flatten(),\n",
        "    tf.keras.layers.Dense(128, activation='relu'),\n",
        "    tf.keras.layers.Dense(vocab_size, activation='softmax')\n",
        "])\n",
        "\n",
        "model.compile(loss='sparse_categorical_crossentropy', optimizer='adam', metrics=['accuracy'])"
      ],
      "metadata": {
        "id": "5eTCChdF1sTt"
      },
      "execution_count": 63,
      "outputs": []
    },
    {
      "cell_type": "code",
      "source": [
        "encoded_sequences = [[token_to_int[token] for token in seq] for seq in sequences]\n",
        "X = np.array([seq[:-1] for seq in encoded_sequences])\n",
        "y = np.array([seq[-1] for seq in encoded_sequences])"
      ],
      "metadata": {
        "id": "pSAF5PZ035ou"
      },
      "execution_count": 64,
      "outputs": []
    },
    {
      "cell_type": "code",
      "source": [
        "model.compile(loss='sparse_categorical_crossentropy', optimizer='adam', metrics=['accuracy'])"
      ],
      "metadata": {
        "id": "bIuyzqB73_Mp"
      },
      "execution_count": 65,
      "outputs": []
    },
    {
      "cell_type": "code",
      "source": [
        "from tensorflow.keras.callbacks import EarlyStopping\n",
        "early_stopping = EarlyStopping(monitor='val_loss', patience=3, restore_best_weights=True)\n",
        "model.fit(X, y, epochs=20, batch_size=128, validation_split=0.1, callbacks=[early_stopping])"
      ],
      "metadata": {
        "colab": {
          "base_uri": "https://localhost:8080/"
        },
        "id": "Ql9uD_kQ2F3z",
        "outputId": "f4f06467-6cbb-4765-e50c-eb2d4a07a417"
      },
      "execution_count": 66,
      "outputs": [
        {
          "output_type": "stream",
          "name": "stdout",
          "text": [
            "Epoch 1/20\n",
            "\u001b[1m895/895\u001b[0m \u001b[32m━━━━━━━━━━━━━━━━━━━━\u001b[0m\u001b[37m\u001b[0m \u001b[1m60s\u001b[0m 66ms/step - accuracy: 0.0420 - loss: 6.9264 - val_accuracy: 0.0665 - val_loss: 6.2003\n",
            "Epoch 2/20\n",
            "\u001b[1m895/895\u001b[0m \u001b[32m━━━━━━━━━━━━━━━━━━━━\u001b[0m\u001b[37m\u001b[0m \u001b[1m80s\u001b[0m 64ms/step - accuracy: 0.0811 - loss: 5.9304 - val_accuracy: 0.1017 - val_loss: 5.8467\n",
            "Epoch 3/20\n",
            "\u001b[1m895/895\u001b[0m \u001b[32m━━━━━━━━━━━━━━━━━━━━\u001b[0m\u001b[37m\u001b[0m \u001b[1m64s\u001b[0m 71ms/step - accuracy: 0.1181 - loss: 5.3806 - val_accuracy: 0.1122 - val_loss: 5.8172\n",
            "Epoch 4/20\n",
            "\u001b[1m895/895\u001b[0m \u001b[32m━━━━━━━━━━━━━━━━━━━━\u001b[0m\u001b[37m\u001b[0m \u001b[1m77s\u001b[0m 65ms/step - accuracy: 0.1419 - loss: 4.9803 - val_accuracy: 0.1178 - val_loss: 5.8826\n",
            "Epoch 5/20\n",
            "\u001b[1m895/895\u001b[0m \u001b[32m━━━━━━━━━━━━━━━━━━━━\u001b[0m\u001b[37m\u001b[0m \u001b[1m84s\u001b[0m 67ms/step - accuracy: 0.1709 - loss: 4.6171 - val_accuracy: 0.1170 - val_loss: 6.0241\n",
            "Epoch 6/20\n",
            "\u001b[1m895/895\u001b[0m \u001b[32m━━━━━━━━━━━━━━━━━━━━\u001b[0m\u001b[37m\u001b[0m \u001b[1m79s\u001b[0m 65ms/step - accuracy: 0.2041 - loss: 4.2633 - val_accuracy: 0.1086 - val_loss: 6.2682\n"
          ]
        },
        {
          "output_type": "execute_result",
          "data": {
            "text/plain": [
              "<keras.src.callbacks.history.History at 0x7846c1742fb0>"
            ]
          },
          "metadata": {},
          "execution_count": 66
        }
      ]
    },
    {
      "cell_type": "code",
      "source": [
        "def prepare_seed(seed_text, token_to_int):\n",
        "    seed_tokens = seed_text.lower().split()\n",
        "    return [token_to_int[token] for token in seed_tokens if token in token_to_int]"
      ],
      "metadata": {
        "id": "bQ57KURk2WPX"
      },
      "execution_count": 67,
      "outputs": []
    },
    {
      "cell_type": "code",
      "source": [
        "def generate_text(model, start_seed, gen_length):\n",
        "    result = []\n",
        "    input_sequence = prepare_seed(start_seed, token_to_int)\n",
        "\n",
        "    for _ in range(gen_length):\n",
        "        padded_sequence = tf.keras.preprocessing.sequence.pad_sequences(\n",
        "            [input_sequence], maxlen=seq_length, truncating='pre'\n",
        "        )\n",
        "        predicted = model.predict(padded_sequence, verbose=0)\n",
        "        next_token = np.random.choice(range(vocab_size), p=predicted[0])\n",
        "\n",
        "        input_sequence.append(next_token)\n",
        "        result.append(int_to_token[next_token])\n",
        "        input_sequence = input_sequence[1:]\n",
        "\n",
        "    return ' '.join(result)"
      ],
      "metadata": {
        "id": "Gv5fNDBD6JSg"
      },
      "execution_count": 68,
      "outputs": []
    },
    {
      "cell_type": "code",
      "source": [
        "import time\n",
        "seed_text = \"it is a truth universally acknowledged\"\n",
        "\n",
        "try:\n",
        "    while True:\n",
        "        generated_text = generate_text(model, seed_text, 10)\n",
        "        print(\"Generated Text:\")\n",
        "        print(generated_text)\n",
        "        time.sleep(10)\n",
        "except KeyboardInterrupt:\n",
        "    print(\"Text generation stopped.\")"
      ],
      "metadata": {
        "colab": {
          "base_uri": "https://localhost:8080/",
          "height": 280
        },
        "id": "1n5BQDcw6PMY",
        "outputId": "2939b670-875c-44db-be35-7d2b3168686c"
      },
      "execution_count": 69,
      "outputs": [
        {
          "output_type": "stream",
          "name": "stdout",
          "text": [
            "Generated Text:\n",
            "overpowered every whole good character like execution hearing his most\n",
            "Generated Text:\n",
            "having be gardiner lucas shall be belong to receive suffer\n",
            "Generated Text:\n",
            "little own pleasant dear suppressed unrestrained bennet seems taken very\n"
          ]
        },
        {
          "output_type": "error",
          "ename": "KeyboardInterrupt",
          "evalue": "",
          "traceback": [
            "\u001b[0;31m---------------------------------------------------------------------------\u001b[0m",
            "\u001b[0;31mKeyboardInterrupt\u001b[0m                         Traceback (most recent call last)",
            "\u001b[0;32m<ipython-input-69-25ce95d74fc3>\u001b[0m in \u001b[0;36m<cell line: 3>\u001b[0;34m()\u001b[0m\n\u001b[1;32m      5\u001b[0m     \u001b[0mprint\u001b[0m\u001b[0;34m(\u001b[0m\u001b[0;34m\"Generated Text:\"\u001b[0m\u001b[0;34m)\u001b[0m\u001b[0;34m\u001b[0m\u001b[0;34m\u001b[0m\u001b[0m\n\u001b[1;32m      6\u001b[0m     \u001b[0mprint\u001b[0m\u001b[0;34m(\u001b[0m\u001b[0mgenerated_text\u001b[0m\u001b[0;34m)\u001b[0m\u001b[0;34m\u001b[0m\u001b[0;34m\u001b[0m\u001b[0m\n\u001b[0;32m----> 7\u001b[0;31m     \u001b[0mtime\u001b[0m\u001b[0;34m.\u001b[0m\u001b[0msleep\u001b[0m\u001b[0;34m(\u001b[0m\u001b[0;36m10\u001b[0m\u001b[0;34m)\u001b[0m\u001b[0;34m\u001b[0m\u001b[0;34m\u001b[0m\u001b[0m\n\u001b[0m",
            "\u001b[0;31mKeyboardInterrupt\u001b[0m: "
          ]
        }
      ]
    },
    {
      "cell_type": "code",
      "source": [],
      "metadata": {
        "id": "zhjLZOTq6d_J"
      },
      "execution_count": null,
      "outputs": []
    }
  ]
}