{
  "nbformat": 4,
  "nbformat_minor": 0,
  "metadata": {
    "colab": {
      "provenance": [],
      "authorship_tag": "ABX9TyNmEQXq90mCGWSxYhPoMF3x",
      "include_colab_link": true
    },
    "kernelspec": {
      "name": "python3",
      "display_name": "Python 3"
    },
    "language_info": {
      "name": "python"
    }
  },
  "cells": [
    {
      "cell_type": "markdown",
      "metadata": {
        "id": "view-in-github",
        "colab_type": "text"
      },
      "source": [
        "<a href=\"https://colab.research.google.com/github/shashankt1/Text-generative-Model/blob/main/Text_Gen_model.ipynb\" target=\"_parent\"><img src=\"https://colab.research.google.com/assets/colab-badge.svg\" alt=\"Open In Colab\"/></a>"
      ]
    },
    {
      "cell_type": "code",
      "execution_count": 70,
      "metadata": {
        "id": "f78K8GJF0B1d"
      },
      "outputs": [],
      "source": [
        "import nltk\n",
        "from nltk.corpus import gutenberg"
      ]
    },
    {
      "cell_type": "code",
      "source": [
        "nltk.download('gutenberg')"
      ],
      "metadata": {
        "colab": {
          "base_uri": "https://localhost:8080/"
        },
        "id": "8u928j2h0TF5",
        "outputId": "c159ef15-0576-4278-81cf-b549bcb6ea84"
      },
      "execution_count": 71,
      "outputs": [
        {
          "output_type": "stream",
          "name": "stderr",
          "text": [
            "[nltk_data] Downloading package gutenberg to /root/nltk_data...\n",
            "[nltk_data]   Package gutenberg is already up-to-date!\n"
          ]
        },
        {
          "output_type": "execute_result",
          "data": {
            "text/plain": [
              "True"
            ]
          },
          "metadata": {},
          "execution_count": 71
        }
      ]
    },
    {
      "cell_type": "code",
      "source": [
        "import requests\n",
        "url = \"https://www.gutenberg.org/files/1342/1342-0.txt\"\n",
        "response = requests.get(url)"
      ],
      "metadata": {
        "id": "PhkU540P0aUD"
      },
      "execution_count": 72,
      "outputs": []
    },
    {
      "cell_type": "code",
      "source": [
        "with open(\"pride_and_prejudice.txt\", \"w\", encoding=\"utf-8\") as f:\n",
        "    f.write(response.text)"
      ],
      "metadata": {
        "id": "_7xxb4ZF0eOR"
      },
      "execution_count": 73,
      "outputs": []
    },
    {
      "cell_type": "code",
      "source": [
        "with open(\"pride_and_prejudice.txt\", \"r\", encoding=\"utf-8\") as f:\n",
        "    text = f.read()"
      ],
      "metadata": {
        "id": "WYLqnVGO1Grx"
      },
      "execution_count": 74,
      "outputs": []
    },
    {
      "cell_type": "code",
      "source": [
        "import string\n",
        "import numpy as np"
      ],
      "metadata": {
        "id": "PEi7h2LG1LSA"
      },
      "execution_count": 75,
      "outputs": []
    },
    {
      "cell_type": "code",
      "source": [
        "def preprocess_text(text):\n",
        "\n",
        "    text = text.lower()\n",
        "\n",
        "    text = text.translate(str.maketrans(\"\", \"\", string.punctuation))\n",
        "\n",
        "    tokens = text.split()\n",
        "    return tokens\n",
        "\n",
        "tokens = preprocess_text(text)\n"
      ],
      "metadata": {
        "id": "dN7nZnWO1OdH"
      },
      "execution_count": 76,
      "outputs": []
    },
    {
      "cell_type": "code",
      "source": [
        "def create_sequences(tokens, seq_length):\n",
        "    sequences = []\n",
        "    for i in range(len(tokens) - seq_length):\n",
        "        sequences.append(tokens[i:i + seq_length + 1])\n",
        "    return sequences\n",
        "\n",
        "seq_length = 30\n",
        "sequences = create_sequences(tokens, seq_length)"
      ],
      "metadata": {
        "id": "HZ-7O4FK1dKN"
      },
      "execution_count": 77,
      "outputs": []
    },
    {
      "cell_type": "code",
      "source": [
        "vocab = sorted(set(tokens))\n",
        "vocab_size = len(vocab)\n",
        "\n",
        "token_to_int = {token: i for i, token in enumerate(vocab)}\n",
        "int_to_token = {i: token for i, token in enumerate(vocab)}\n",
        "encoded_sequences = [[token_to_int[token] for token in seq] for seq in sequences]\n",
        "X = np.array([seq[:-1] for seq in encoded_sequences])\n",
        "y = np.array([seq[1:] for seq in encoded_sequences])"
      ],
      "metadata": {
        "id": "EEeSAWbQ1kjz"
      },
      "execution_count": 78,
      "outputs": []
    },
    {
      "cell_type": "code",
      "source": [
        "import tensorflow as tf\n",
        "\n",
        "\n",
        "model = tf.keras.Sequential([\n",
        "    tf.keras.layers.Embedding(input_dim=vocab_size, output_dim=50, input_length=seq_length),\n",
        "    tf.keras.layers.Flatten(),\n",
        "    tf.keras.layers.Dense(128, activation='relu'),\n",
        "    tf.keras.layers.Dense(vocab_size, activation='softmax')\n",
        "])\n",
        "\n",
        "model.compile(loss='sparse_categorical_crossentropy', optimizer='adam', metrics=['accuracy'])"
      ],
      "metadata": {
        "id": "5eTCChdF1sTt"
      },
      "execution_count": 79,
      "outputs": []
    },
    {
      "cell_type": "code",
      "source": [
        "encoded_sequences = [[token_to_int[token] for token in seq] for seq in sequences]\n",
        "X = np.array([seq[:-1] for seq in encoded_sequences])\n",
        "y = np.array([seq[-1] for seq in encoded_sequences])"
      ],
      "metadata": {
        "id": "pSAF5PZ035ou"
      },
      "execution_count": 80,
      "outputs": []
    },
    {
      "cell_type": "code",
      "source": [
        "model.compile(loss='sparse_categorical_crossentropy', optimizer='adam', metrics=['accuracy'])"
      ],
      "metadata": {
        "id": "bIuyzqB73_Mp"
      },
      "execution_count": 81,
      "outputs": []
    },
    {
      "cell_type": "code",
      "source": [
        "from tensorflow.keras.callbacks import EarlyStopping\n",
        "early_stopping = EarlyStopping(monitor='val_loss', patience=3, restore_best_weights=True)\n",
        "model.fit(X, y, epochs=20, batch_size=128, validation_split=0.1, callbacks=[early_stopping])"
      ],
      "metadata": {
        "colab": {
          "base_uri": "https://localhost:8080/"
        },
        "id": "Ql9uD_kQ2F3z",
        "outputId": "693a3b9a-c156-424a-ce5d-f5559d348699"
      },
      "execution_count": 82,
      "outputs": [
        {
          "output_type": "stream",
          "name": "stdout",
          "text": [
            "Epoch 1/20\n",
            "\u001b[1m895/895\u001b[0m \u001b[32m━━━━━━━━━━━━━━━━━━━━\u001b[0m\u001b[37m\u001b[0m \u001b[1m51s\u001b[0m 56ms/step - accuracy: 0.0426 - loss: 6.9158 - val_accuracy: 0.0696 - val_loss: 6.1749\n",
            "Epoch 2/20\n",
            "\u001b[1m895/895\u001b[0m \u001b[32m━━━━━━━━━━━━━━━━━━━━\u001b[0m\u001b[37m\u001b[0m \u001b[1m83s\u001b[0m 57ms/step - accuracy: 0.0837 - loss: 5.9427 - val_accuracy: 0.1005 - val_loss: 5.8630\n",
            "Epoch 3/20\n",
            "\u001b[1m895/895\u001b[0m \u001b[32m━━━━━━━━━━━━━━━━━━━━\u001b[0m\u001b[37m\u001b[0m \u001b[1m82s\u001b[0m 58ms/step - accuracy: 0.1172 - loss: 5.3840 - val_accuracy: 0.1108 - val_loss: 5.8392\n",
            "Epoch 4/20\n",
            "\u001b[1m895/895\u001b[0m \u001b[32m━━━━━━━━━━━━━━━━━━━━\u001b[0m\u001b[37m\u001b[0m \u001b[1m79s\u001b[0m 55ms/step - accuracy: 0.1432 - loss: 4.9743 - val_accuracy: 0.1150 - val_loss: 5.8904\n",
            "Epoch 5/20\n",
            "\u001b[1m895/895\u001b[0m \u001b[32m━━━━━━━━━━━━━━━━━━━━\u001b[0m\u001b[37m\u001b[0m \u001b[1m83s\u001b[0m 56ms/step - accuracy: 0.1704 - loss: 4.6189 - val_accuracy: 0.1119 - val_loss: 6.0437\n",
            "Epoch 6/20\n",
            "\u001b[1m895/895\u001b[0m \u001b[32m━━━━━━━━━━━━━━━━━━━━\u001b[0m\u001b[37m\u001b[0m \u001b[1m49s\u001b[0m 54ms/step - accuracy: 0.2042 - loss: 4.2728 - val_accuracy: 0.1069 - val_loss: 6.3356\n"
          ]
        },
        {
          "output_type": "execute_result",
          "data": {
            "text/plain": [
              "<keras.src.callbacks.history.History at 0x784717d6ace0>"
            ]
          },
          "metadata": {},
          "execution_count": 82
        }
      ]
    },
    {
      "cell_type": "code",
      "source": [
        "def prepare_seed(seed_text, token_to_int):\n",
        "    seed_tokens = seed_text.lower().split()\n",
        "    return [token_to_int[token] for token in seed_tokens if token in token_to_int]"
      ],
      "metadata": {
        "id": "bQ57KURk2WPX"
      },
      "execution_count": 83,
      "outputs": []
    },
    {
      "cell_type": "code",
      "source": [
        "def generate_text(model, start_seed, gen_length):\n",
        "    result = []\n",
        "    input_sequence = prepare_seed(start_seed, token_to_int)\n",
        "\n",
        "    for _ in range(gen_length):\n",
        "        padded_sequence = tf.keras.preprocessing.sequence.pad_sequences(\n",
        "            [input_sequence], maxlen=seq_length, truncating='pre'\n",
        "        )\n",
        "        predicted = model.predict(padded_sequence, verbose=0)\n",
        "        next_token = np.random.choice(range(vocab_size), p=predicted[0])\n",
        "\n",
        "        input_sequence.append(next_token)\n",
        "        result.append(int_to_token[next_token])\n",
        "        input_sequence = input_sequence[1:]\n",
        "\n",
        "    return ' '.join(result)"
      ],
      "metadata": {
        "id": "Gv5fNDBD6JSg"
      },
      "execution_count": 84,
      "outputs": []
    },
    {
      "cell_type": "code",
      "source": [
        "import time\n",
        "seed_text = \"it is a truth universally acknowledged\"\n",
        "\n",
        "try:\n",
        "    while True:\n",
        "        generated_text = generate_text(model, seed_text, 10)\n",
        "        print(\"Generated Text:\")\n",
        "        print(generated_text)\n",
        "        time.sleep(10)\n",
        "except KeyboardInterrupt:\n",
        "    print(\"Text generation stopped.\")"
      ],
      "metadata": {
        "colab": {
          "base_uri": "https://localhost:8080/"
        },
        "id": "1n5BQDcw6PMY",
        "outputId": "75b38b68-0f00-4816-c82c-6f1654245d53"
      },
      "execution_count": null,
      "outputs": [
        {
          "output_type": "stream",
          "name": "stdout",
          "text": [
            "Generated Text:\n",
            "have expressions near arranged engaged his father never have dancing\n",
            "Generated Text:\n",
            "justify in character street each take impenetrably comforts between this\n",
            "Generated Text:\n",
            "exertion had much own word never you be exasperate austenâs\n",
            "Generated Text:\n",
            "readily yet not think last cousins dare hear checking opposed\n",
            "Generated Text:\n",
            "love its gentlemenâs exposing her âwhat be happy offer has\n",
            "Generated Text:\n",
            "all naturalness an happy paint whither do be suddenly certainly\n",
            "Generated Text:\n",
            "nothing âhe should be think part till is only crammed\n",
            "Generated Text:\n",
            "not all liked lambton town heaven sell gratitude must have\n",
            "Generated Text:\n",
            "spoken not yawn aloud 472 elizabeth hoped well collins improved\n",
            "Generated Text:\n",
            "mrs bennet anybody value first wickhamâs imaginations fancy them incredible\n",
            "Generated Text:\n",
            "girl miss she justice went imposed she stood sight pleased\n",
            "Generated Text:\n",
            "may philips bent you make expect infinitely application was very\n",
            "Generated Text:\n",
            "a bennetâs announced forsterâs decent owner memories inâ âto equal\n",
            "Generated Text:\n",
            "would see collins what all let a fact collins my\n",
            "Generated Text:\n",
            "join he laughter observe it owns have however severalâ proceeded\n",
            "Generated Text:\n",
            "laugh move bingley paying the journey changes carolineâs designs children\n",
            "Generated Text:\n",
            "serious stationed demand leave no mien bring it consolation would\n",
            "Generated Text:\n",
            "for your desire cruelty fretfully viewing a keenest happily out\n",
            "Generated Text:\n",
            "easily finally abilities everything enter her behaviour combined preferred a\n",
            "Generated Text:\n",
            "immediate woman know hated goodness interrupt it lived will collins\n",
            "Generated Text:\n",
            "me prevent evidently ran your her preferred bingley feelings de\n",
            "Generated Text:\n",
            "against more opinion this bourgh overpowered me consigned anybody maâam\n",
            "Generated Text:\n",
            "be competent lady probabilities not led last wellbred thus be\n",
            "Generated Text:\n",
            "âyou may see all sent were must hurst so detest\n",
            "Generated Text:\n",
            "marry except far dareâ bid that view that inflict benevolenceâ\n",
            "Generated Text:\n",
            "thoughtlessness uncomfortable not moreover darcy claimed fitzwilliam does take philips\n",
            "Generated Text:\n",
            "care dining excellent parish endeavours himself forwarder meeting in the\n",
            "Generated Text:\n",
            "be acquaintance âbut not colour connected had entirely works to\n",
            "Generated Text:\n",
            "be sure happy whom is far rival be principal curricle\n",
            "Generated Text:\n",
            "deserts exclaimed âcome last lambton surprised half then library always\n",
            "Generated Text:\n",
            "not recommend tea nay going intended all stupid end in\n",
            "Generated Text:\n",
            "ought to be some snug followed my father recommendation should\n",
            "Generated Text:\n",
            "you offer there ever are copyright a whole condescension conversations\n",
            "Generated Text:\n",
            "me will hunsford had have netherfield has first preferred lucas\n",
            "Generated Text:\n",
            "or hope sometimes evidently dearest seeking meryton oftenâ entertain addison\n",
            "Generated Text:\n",
            "an little actual above share in others age the anxiously\n",
            "Generated Text:\n",
            "he the windows into gracechurch reasons mary todayâ ask astonished\n",
            "Generated Text:\n",
            "that whose motherâs numbers said rode be happened but added\n",
            "Generated Text:\n",
            "no might wish only infamy doubt stared ageâ courtier soon\n",
            "Generated Text:\n",
            "also your words them conclusionâ de hurst up no almost\n",
            "Generated Text:\n",
            "affectionate sameâ elizabethand bothwickham driven defined placed jumbled sisterâs honour\n",
            "Generated Text:\n",
            "prefer least pledged relate his own led unable to fine\n",
            "Generated Text:\n",
            "them comprehend it called wonderfulâ few paltry church makes his\n",
            "Generated Text:\n",
            "deserveâ civilities mammaâ âpardon a observation accomplishedâ civilityâ affections xxiii\n",
            "Generated Text:\n",
            "do not dance neither absurd indignation glancing integrity comers courted\n",
            "Generated Text:\n",
            "netherfield marrying darcy turned with do my quick pauses thankfulness\n",
            "Generated Text:\n",
            "me softened unreasonable powerful composure decorums fall expression querulous rather\n",
            "Generated Text:\n",
            "nothing nothing screens must attachment he enough nor treat to\n",
            "Generated Text:\n",
            "we he is merely regimentâs must wish bingley put talking\n",
            "Generated Text:\n",
            "our man wrote serious darcyâs case bingley build venture insignificance\n",
            "Generated Text:\n",
            "were style hates comingâ answerable tell them better somehow error\n",
            "Generated Text:\n",
            "âwas that she be happy whatever danced evident dressed impulses\n",
            "Generated Text:\n",
            "madam farâ wished that three week we hear complaisancebut she\n",
            "Generated Text:\n",
            "these lively companion sunday above janeyou do be abuse sufficient\n",
            "Generated Text:\n",
            "be wellâ on satin âthat dear least lucas almost several\n",
            "Generated Text:\n",
            "hereafter the grandeur 198 carried being choose wickham wickham she\n",
            "Generated Text:\n",
            "like though mr bennet was take contrive occasionally mineâ weak\n",
            "Generated Text:\n",
            "if lydiaâs deemed professioni suddenly decide i everything exceeded myself\n",
            "Generated Text:\n",
            "be chose and take giving darcyâs answer fellowtravellers herself wishing\n",
            "Generated Text:\n",
            "lower say observing my dear up him come terms of\n",
            "Generated Text:\n",
            "seem unexpected remain attended several smile darcy as journeysand often\n",
            "Generated Text:\n",
            "goand likely any winter avoid quitting him friendsto unwelcomeâ pollutedâ\n",
            "Generated Text:\n",
            "were such last consequence it discern his first forming all\n",
            "Generated Text:\n",
            "an must think you should give him work all dance\n",
            "Generated Text:\n",
            "certain integrity âbelieve not rather fingers mortal my dear merit\n",
            "Generated Text:\n",
            "recollect at an certain plainly receive meryton knows what meet\n",
            "Generated Text:\n",
            "talked to common garden there cannot de mother again finished\n",
            "Generated Text:\n",
            "disguise success calling philipsâs economically could have forgotten a bingley\n",
            "Generated Text:\n",
            "mrs forster be there knew a stranger receive hopes far\n",
            "Generated Text:\n",
            "have very happen today yet if that do be recall\n",
            "Generated Text:\n",
            "conduct an letter elsewhereâ expected fine pebbles at me to\n",
            "Generated Text:\n",
            "decide askâ shoot wedding gardiner this choiceâ round her other\n",
            "Generated Text:\n",
            "the astonishand honour the atthat unguarded remarks might have been\n",
            "Generated Text:\n",
            "many wink he entered the arisen them gentlemanâ incomprehensible hertfordshire\n",
            "Generated Text:\n",
            "not easy how destructive jane book believe netherfield flat refuse\n",
            "Generated Text:\n",
            "an affectionate choice offended fat half interference professions lydiaâ the\n",
            "Generated Text:\n",
            "be often before you laughed since settling animation naturally there\n",
            "Generated Text:\n",
            "one befriended âshe marry a good maintained liveliness be fancy\n",
            "Generated Text:\n",
            "small circumstances engaged it whether the days awkward stupider refusals\n",
            "Generated Text:\n",
            "only inconvenience my very wish sensible evident lucas odious every\n",
            "Generated Text:\n",
            "my doubt returned drilyâmr darcyâs warmth features accident wisely briefly\n",
            "Generated Text:\n",
            "do bennet master âmiss whatâ stop her incautiously example heart\n",
            "Generated Text:\n",
            "she this metaphysics no affections struggles again guarded indifferent mere\n",
            "Generated Text:\n",
            "did be felicityâ alas the countryâ except now puddles the\n",
            "Generated Text:\n",
            "marry any present benches fancy thoughtless completeness insufferable anger determination\n",
            "Generated Text:\n",
            "find an acknowledge apply on go twelvemonthâs point had sayâ\n",
            "Generated Text:\n",
            "itâ parents be invitation apace obligation led joined her commission\n",
            "Generated Text:\n",
            "one accomplished gentlemanâ gardiner knowâ caught understanding great heart nonexistent\n",
            "Generated Text:\n",
            "be should was help elizabeth said any boundary nor officer\n",
            "Generated Text:\n",
            "you must longbourn help separated now salutation darcy thanking her\n",
            "Generated Text:\n",
            "pains spoke saying last venture little intricate favourable benches for\n",
            "Generated Text:\n",
            "yourself doubt those executors enjoyment mindâ cannot be been deigned\n",
            "Generated Text:\n",
            "not will darcy totally possessed who instinctively newcastle i have\n",
            "Generated Text:\n",
            "thankful not be go solemn repaid month five motherâs passions\n",
            "Generated Text:\n",
            "as ordinary overdone might bennet become ideasâ both thatââ exceeded\n",
            "Generated Text:\n",
            "conceal the polite stated creditablyâ affront one circumstancesâ artist sudden\n",
            "Generated Text:\n",
            "some health well reconciled she knowâ keep netherfield match give\n",
            "Generated Text:\n",
            "askâ envy mr bennet jane maâam us proud cutting can\n",
            "Generated Text:\n",
            "shall a business silent admitted do not bear looking requited\n",
            "Generated Text:\n",
            "dine family advantageously as come forsterâs hertfordshire let was receive\n",
            "Generated Text:\n",
            "be proper partner keep your short look kind abominably kingdomprovided\n",
            "Generated Text:\n",
            "saving playwright do at all only donedone disliked anythingâ herself\n",
            "Generated Text:\n",
            "their dear interpretation love joined my wife end an bride\n",
            "Generated Text:\n",
            "bingley consists him almost 1894 him daughter his relations whist\n",
            "Generated Text:\n",
            "for his opinion depend ignorant eleven visitor comeâ that he\n",
            "Generated Text:\n",
            "cautious is be book right at collins fortnight charlotteâs aware\n",
            "Generated Text:\n",
            "have in a bennet substitute selfimportance the society arrival cannot\n",
            "Generated Text:\n",
            "am degree naughty suppress austen replied hunsford ballroom sight must\n",
            "Generated Text:\n",
            "they do be dear darcy he have tribute her three\n",
            "Generated Text:\n",
            "with not begins has 1894 none nobody jane make circumstances\n",
            "Generated Text:\n",
            "the journey along regimentals have himself each past mode to\n",
            "Generated Text:\n",
            "her better quick allow hope a dear other perfectly shallâ\n",
            "Generated Text:\n",
            "think ten executors in converse originally an particulars âit saw\n",
            "Generated Text:\n",
            "fit by accompany be gives be such present hard not\n",
            "Generated Text:\n",
            "chose let the in amends complained goesâ by mrs lucas\n",
            "Generated Text:\n",
            "stay convinced the respects powers recommenced selfdeceiving purse err leaning\n",
            "Generated Text:\n",
            "as admire refrain would be offer my lucases its find\n",
            "Generated Text:\n",
            "philips weight procured spend elegance doubly endeavor fond of mr\n",
            "Generated Text:\n",
            "bingley as you should be indifferent impenetrably positive credit jane\n",
            "Generated Text:\n",
            "soon expectation felt the matchwhich from each convenience of honestly\n",
            "Generated Text:\n",
            "touch seems pride you still alleviate accomplished decadethat the busily\n",
            "Generated Text:\n",
            "concluded claim what miss de mother offences settle mr collins\n",
            "Generated Text:\n",
            "alone do be encourage prevailed variety of satisfactorily itbut pardon\n",
            "Generated Text:\n",
            "me word find them strong review actual spend the connections\n",
            "Generated Text:\n",
            "be quite expectation did not maria falling readily not reply\n",
            "Generated Text:\n",
            "himâ astonishand begin leaving his appearances did not scarcely all\n",
            "Generated Text:\n",
            "it am sensible poor appearanceâ hate pass leading dictated interference\n",
            "Generated Text:\n",
            "again further be met complete austen as dependence enjoy bingley\n",
            "Generated Text:\n",
            "we be coleridge he undoubtedly leave mr bennet alarm amid\n",
            "Generated Text:\n",
            "knowledge as sitting stream it did meet fact endeavour to\n",
            "Generated Text:\n",
            "all such gardiner raised by fortune greaterwhat dear bennet herself\n",
            "Generated Text:\n",
            "be leave able to chapter brotherinlaw says those fortnight i\n"
          ]
        }
      ]
    },
    {
      "cell_type": "code",
      "source": [],
      "metadata": {
        "id": "zhjLZOTq6d_J"
      },
      "execution_count": null,
      "outputs": []
    }
  ]
}